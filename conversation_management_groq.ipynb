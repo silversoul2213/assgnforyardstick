{
  "cells": [
    {
      "cell_type": "markdown",
      "metadata": {},
      "source": [
        "# Building a Smart Conversation Manager with Groq AI\n",
        "\n",
        "**What we're building**: A conversational AI system that can remember what you've talked about and extract useful information from your chats.\n",
        "\n",
        "**Our goals**:\n",
        "1. Create a system that can maintain conversation history and summarize long chats\n",
        "2. Build an information extractor that can find personal details like names, emails, and locations from conversations\n",
        "\n",
        "**Created by**: Somil Agrawal\n",
        "**Date**: September 17, 2025\n",
        "\n",
        "Let's dive in and build something amazing!"
      ]
    }
  ],
  "metadata": {
    "kernelspec": {
      "display_name": "Python 3",
      "language": "python",
      "name": "python3"
    },
    "language_info": {
      "name": "python",
      "version": "3.11.0"
    }
  },
  "nbformat": 4,
  "nbformat_minor": 4
}